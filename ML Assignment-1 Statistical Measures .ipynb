{
 "cells": [
  {
   "cell_type": "markdown",
   "id": "f0ba5495-96c7-48f0-a0da-ed923084d4a1",
   "metadata": {},
   "source": [
    "Q1. Perform basic EDA (Score:1)\n",
    "\n",
    "Q2. Detect the outliers using following methods and remove it using methods like trimming / capping/ imputation using mean or median (Score: 4)\n",
    "a) Mean and Standard deviation\n",
    "b)Percentile method\n",
    "c) IQR(Inter quartile range method)\n",
    "d) Z Score method\n",
    "\n",
    "Q3. Create a box plot and use this to determine which method seems to work best to remove outliers for this data? (Score:1)\n",
    "\n",
    "Q4. Draw histplot to check the normality of the column(price per sqft column) and perform transformations if needed. Check the skewness and kurtosis before and after the transformation. (Score:1)\n",
    "\n",
    "Q5. Check the correlation between all the numerical columns and plot heatmap. (Score:1)\n",
    "\n",
    "Q6. Draw Scatter plot between the variables to check the correlation between them. (1)"
   ]
  },
  {
   "cell_type": "markdown",
   "id": "efbbbd1a-51f4-4189-a3f6-1ffd9da4006a",
   "metadata": {},
   "source": [
    "## Q1. Perform basic EDA (Score:1)"
   ]
  },
  {
   "cell_type": "code",
   "execution_count": 64,
   "id": "b5cf16e8-b33d-4bc4-befc-5bc7c57c03b1",
   "metadata": {},
   "outputs": [],
   "source": [
    "# Importing libraries\n",
    "import numpy as np\n",
    "import pandas as pd\n",
    "import matplotlib.pyplot as plt\n",
    "import seaborn as sns"
   ]
  },
  {
   "cell_type": "code",
   "execution_count": 66,
   "id": "e4cea1a5-05f8-45f6-a5e6-4f0998cbc253",
   "metadata": {},
   "outputs": [
    {
     "data": {
      "text/html": [
       "<div>\n",
       "<style scoped>\n",
       "    .dataframe tbody tr th:only-of-type {\n",
       "        vertical-align: middle;\n",
       "    }\n",
       "\n",
       "    .dataframe tbody tr th {\n",
       "        vertical-align: top;\n",
       "    }\n",
       "\n",
       "    .dataframe thead th {\n",
       "        text-align: right;\n",
       "    }\n",
       "</style>\n",
       "<table border=\"1\" class=\"dataframe\">\n",
       "  <thead>\n",
       "    <tr style=\"text-align: right;\">\n",
       "      <th></th>\n",
       "      <th>location</th>\n",
       "      <th>size</th>\n",
       "      <th>total_sqft</th>\n",
       "      <th>bath</th>\n",
       "      <th>price</th>\n",
       "      <th>bhk</th>\n",
       "      <th>price_per_sqft</th>\n",
       "    </tr>\n",
       "  </thead>\n",
       "  <tbody>\n",
       "    <tr>\n",
       "      <th>0</th>\n",
       "      <td>Electronic City Phase II</td>\n",
       "      <td>2 BHK</td>\n",
       "      <td>1056.0</td>\n",
       "      <td>2.0</td>\n",
       "      <td>39.07</td>\n",
       "      <td>2</td>\n",
       "      <td>3699</td>\n",
       "    </tr>\n",
       "    <tr>\n",
       "      <th>1</th>\n",
       "      <td>Chikka Tirupathi</td>\n",
       "      <td>4 Bedroom</td>\n",
       "      <td>2600.0</td>\n",
       "      <td>5.0</td>\n",
       "      <td>120.00</td>\n",
       "      <td>4</td>\n",
       "      <td>4615</td>\n",
       "    </tr>\n",
       "    <tr>\n",
       "      <th>2</th>\n",
       "      <td>Uttarahalli</td>\n",
       "      <td>3 BHK</td>\n",
       "      <td>1440.0</td>\n",
       "      <td>2.0</td>\n",
       "      <td>62.00</td>\n",
       "      <td>3</td>\n",
       "      <td>4305</td>\n",
       "    </tr>\n",
       "    <tr>\n",
       "      <th>3</th>\n",
       "      <td>Lingadheeranahalli</td>\n",
       "      <td>3 BHK</td>\n",
       "      <td>1521.0</td>\n",
       "      <td>3.0</td>\n",
       "      <td>95.00</td>\n",
       "      <td>3</td>\n",
       "      <td>6245</td>\n",
       "    </tr>\n",
       "    <tr>\n",
       "      <th>4</th>\n",
       "      <td>Kothanur</td>\n",
       "      <td>2 BHK</td>\n",
       "      <td>1200.0</td>\n",
       "      <td>2.0</td>\n",
       "      <td>51.00</td>\n",
       "      <td>2</td>\n",
       "      <td>4250</td>\n",
       "    </tr>\n",
       "    <tr>\n",
       "      <th>...</th>\n",
       "      <td>...</td>\n",
       "      <td>...</td>\n",
       "      <td>...</td>\n",
       "      <td>...</td>\n",
       "      <td>...</td>\n",
       "      <td>...</td>\n",
       "      <td>...</td>\n",
       "    </tr>\n",
       "    <tr>\n",
       "      <th>13195</th>\n",
       "      <td>Whitefield</td>\n",
       "      <td>5 Bedroom</td>\n",
       "      <td>3453.0</td>\n",
       "      <td>4.0</td>\n",
       "      <td>231.00</td>\n",
       "      <td>5</td>\n",
       "      <td>6689</td>\n",
       "    </tr>\n",
       "    <tr>\n",
       "      <th>13196</th>\n",
       "      <td>other</td>\n",
       "      <td>4 BHK</td>\n",
       "      <td>3600.0</td>\n",
       "      <td>5.0</td>\n",
       "      <td>400.00</td>\n",
       "      <td>4</td>\n",
       "      <td>11111</td>\n",
       "    </tr>\n",
       "    <tr>\n",
       "      <th>13197</th>\n",
       "      <td>Raja Rajeshwari Nagar</td>\n",
       "      <td>2 BHK</td>\n",
       "      <td>1141.0</td>\n",
       "      <td>2.0</td>\n",
       "      <td>60.00</td>\n",
       "      <td>2</td>\n",
       "      <td>5258</td>\n",
       "    </tr>\n",
       "    <tr>\n",
       "      <th>13198</th>\n",
       "      <td>Padmanabhanagar</td>\n",
       "      <td>4 BHK</td>\n",
       "      <td>4689.0</td>\n",
       "      <td>4.0</td>\n",
       "      <td>488.00</td>\n",
       "      <td>4</td>\n",
       "      <td>10407</td>\n",
       "    </tr>\n",
       "    <tr>\n",
       "      <th>13199</th>\n",
       "      <td>Doddathoguru</td>\n",
       "      <td>1 BHK</td>\n",
       "      <td>550.0</td>\n",
       "      <td>1.0</td>\n",
       "      <td>17.00</td>\n",
       "      <td>1</td>\n",
       "      <td>3090</td>\n",
       "    </tr>\n",
       "  </tbody>\n",
       "</table>\n",
       "<p>13200 rows × 7 columns</p>\n",
       "</div>"
      ],
      "text/plain": [
       "                       location       size  total_sqft  bath   price  bhk  \\\n",
       "0      Electronic City Phase II      2 BHK      1056.0   2.0   39.07    2   \n",
       "1              Chikka Tirupathi  4 Bedroom      2600.0   5.0  120.00    4   \n",
       "2                   Uttarahalli      3 BHK      1440.0   2.0   62.00    3   \n",
       "3            Lingadheeranahalli      3 BHK      1521.0   3.0   95.00    3   \n",
       "4                      Kothanur      2 BHK      1200.0   2.0   51.00    2   \n",
       "...                         ...        ...         ...   ...     ...  ...   \n",
       "13195                Whitefield  5 Bedroom      3453.0   4.0  231.00    5   \n",
       "13196                     other      4 BHK      3600.0   5.0  400.00    4   \n",
       "13197     Raja Rajeshwari Nagar      2 BHK      1141.0   2.0   60.00    2   \n",
       "13198           Padmanabhanagar      4 BHK      4689.0   4.0  488.00    4   \n",
       "13199              Doddathoguru      1 BHK       550.0   1.0   17.00    1   \n",
       "\n",
       "       price_per_sqft  \n",
       "0                3699  \n",
       "1                4615  \n",
       "2                4305  \n",
       "3                6245  \n",
       "4                4250  \n",
       "...               ...  \n",
       "13195            6689  \n",
       "13196           11111  \n",
       "13197            5258  \n",
       "13198           10407  \n",
       "13199            3090  \n",
       "\n",
       "[13200 rows x 7 columns]"
      ]
     },
     "execution_count": 66,
     "metadata": {},
     "output_type": "execute_result"
    }
   ],
   "source": [
    "# Loading the dataset\n",
    "data = pd.read_csv(\"C:\\\\Users\\\\aniru\\\\Downloads\\\\house_price.csv\")\n",
    "data"
   ]
  },
  {
   "cell_type": "code",
   "execution_count": 68,
   "id": "698575f1-64dd-484c-92be-a1c2b830f2cf",
   "metadata": {},
   "outputs": [
    {
     "data": {
      "text/html": [
       "<div>\n",
       "<style scoped>\n",
       "    .dataframe tbody tr th:only-of-type {\n",
       "        vertical-align: middle;\n",
       "    }\n",
       "\n",
       "    .dataframe tbody tr th {\n",
       "        vertical-align: top;\n",
       "    }\n",
       "\n",
       "    .dataframe thead th {\n",
       "        text-align: right;\n",
       "    }\n",
       "</style>\n",
       "<table border=\"1\" class=\"dataframe\">\n",
       "  <thead>\n",
       "    <tr style=\"text-align: right;\">\n",
       "      <th></th>\n",
       "      <th>location</th>\n",
       "      <th>size</th>\n",
       "      <th>total_sqft</th>\n",
       "      <th>bath</th>\n",
       "      <th>price</th>\n",
       "      <th>bhk</th>\n",
       "      <th>price_per_sqft</th>\n",
       "    </tr>\n",
       "  </thead>\n",
       "  <tbody>\n",
       "    <tr>\n",
       "      <th>0</th>\n",
       "      <td>Electronic City Phase II</td>\n",
       "      <td>2 BHK</td>\n",
       "      <td>1056.0</td>\n",
       "      <td>2.0</td>\n",
       "      <td>39.07</td>\n",
       "      <td>2</td>\n",
       "      <td>3699</td>\n",
       "    </tr>\n",
       "    <tr>\n",
       "      <th>1</th>\n",
       "      <td>Chikka Tirupathi</td>\n",
       "      <td>4 Bedroom</td>\n",
       "      <td>2600.0</td>\n",
       "      <td>5.0</td>\n",
       "      <td>120.00</td>\n",
       "      <td>4</td>\n",
       "      <td>4615</td>\n",
       "    </tr>\n",
       "    <tr>\n",
       "      <th>2</th>\n",
       "      <td>Uttarahalli</td>\n",
       "      <td>3 BHK</td>\n",
       "      <td>1440.0</td>\n",
       "      <td>2.0</td>\n",
       "      <td>62.00</td>\n",
       "      <td>3</td>\n",
       "      <td>4305</td>\n",
       "    </tr>\n",
       "    <tr>\n",
       "      <th>3</th>\n",
       "      <td>Lingadheeranahalli</td>\n",
       "      <td>3 BHK</td>\n",
       "      <td>1521.0</td>\n",
       "      <td>3.0</td>\n",
       "      <td>95.00</td>\n",
       "      <td>3</td>\n",
       "      <td>6245</td>\n",
       "    </tr>\n",
       "    <tr>\n",
       "      <th>4</th>\n",
       "      <td>Kothanur</td>\n",
       "      <td>2 BHK</td>\n",
       "      <td>1200.0</td>\n",
       "      <td>2.0</td>\n",
       "      <td>51.00</td>\n",
       "      <td>2</td>\n",
       "      <td>4250</td>\n",
       "    </tr>\n",
       "  </tbody>\n",
       "</table>\n",
       "</div>"
      ],
      "text/plain": [
       "                   location       size  total_sqft  bath   price  bhk  \\\n",
       "0  Electronic City Phase II      2 BHK      1056.0   2.0   39.07    2   \n",
       "1          Chikka Tirupathi  4 Bedroom      2600.0   5.0  120.00    4   \n",
       "2               Uttarahalli      3 BHK      1440.0   2.0   62.00    3   \n",
       "3        Lingadheeranahalli      3 BHK      1521.0   3.0   95.00    3   \n",
       "4                  Kothanur      2 BHK      1200.0   2.0   51.00    2   \n",
       "\n",
       "   price_per_sqft  \n",
       "0            3699  \n",
       "1            4615  \n",
       "2            4305  \n",
       "3            6245  \n",
       "4            4250  "
      ]
     },
     "execution_count": 68,
     "metadata": {},
     "output_type": "execute_result"
    }
   ],
   "source": [
    "# Check the first 5 few rows of the data\n",
    "data.head()"
   ]
  },
  {
   "cell_type": "code",
   "execution_count": 70,
   "id": "d08d0466-be16-45e8-bbba-8d7ea40d1c37",
   "metadata": {},
   "outputs": [
    {
     "data": {
      "text/html": [
       "<div>\n",
       "<style scoped>\n",
       "    .dataframe tbody tr th:only-of-type {\n",
       "        vertical-align: middle;\n",
       "    }\n",
       "\n",
       "    .dataframe tbody tr th {\n",
       "        vertical-align: top;\n",
       "    }\n",
       "\n",
       "    .dataframe thead th {\n",
       "        text-align: right;\n",
       "    }\n",
       "</style>\n",
       "<table border=\"1\" class=\"dataframe\">\n",
       "  <thead>\n",
       "    <tr style=\"text-align: right;\">\n",
       "      <th></th>\n",
       "      <th>location</th>\n",
       "      <th>size</th>\n",
       "      <th>total_sqft</th>\n",
       "      <th>bath</th>\n",
       "      <th>price</th>\n",
       "      <th>bhk</th>\n",
       "      <th>price_per_sqft</th>\n",
       "    </tr>\n",
       "  </thead>\n",
       "  <tbody>\n",
       "    <tr>\n",
       "      <th>13195</th>\n",
       "      <td>Whitefield</td>\n",
       "      <td>5 Bedroom</td>\n",
       "      <td>3453.0</td>\n",
       "      <td>4.0</td>\n",
       "      <td>231.0</td>\n",
       "      <td>5</td>\n",
       "      <td>6689</td>\n",
       "    </tr>\n",
       "    <tr>\n",
       "      <th>13196</th>\n",
       "      <td>other</td>\n",
       "      <td>4 BHK</td>\n",
       "      <td>3600.0</td>\n",
       "      <td>5.0</td>\n",
       "      <td>400.0</td>\n",
       "      <td>4</td>\n",
       "      <td>11111</td>\n",
       "    </tr>\n",
       "    <tr>\n",
       "      <th>13197</th>\n",
       "      <td>Raja Rajeshwari Nagar</td>\n",
       "      <td>2 BHK</td>\n",
       "      <td>1141.0</td>\n",
       "      <td>2.0</td>\n",
       "      <td>60.0</td>\n",
       "      <td>2</td>\n",
       "      <td>5258</td>\n",
       "    </tr>\n",
       "    <tr>\n",
       "      <th>13198</th>\n",
       "      <td>Padmanabhanagar</td>\n",
       "      <td>4 BHK</td>\n",
       "      <td>4689.0</td>\n",
       "      <td>4.0</td>\n",
       "      <td>488.0</td>\n",
       "      <td>4</td>\n",
       "      <td>10407</td>\n",
       "    </tr>\n",
       "    <tr>\n",
       "      <th>13199</th>\n",
       "      <td>Doddathoguru</td>\n",
       "      <td>1 BHK</td>\n",
       "      <td>550.0</td>\n",
       "      <td>1.0</td>\n",
       "      <td>17.0</td>\n",
       "      <td>1</td>\n",
       "      <td>3090</td>\n",
       "    </tr>\n",
       "  </tbody>\n",
       "</table>\n",
       "</div>"
      ],
      "text/plain": [
       "                    location       size  total_sqft  bath  price  bhk  \\\n",
       "13195             Whitefield  5 Bedroom      3453.0   4.0  231.0    5   \n",
       "13196                  other      4 BHK      3600.0   5.0  400.0    4   \n",
       "13197  Raja Rajeshwari Nagar      2 BHK      1141.0   2.0   60.0    2   \n",
       "13198        Padmanabhanagar      4 BHK      4689.0   4.0  488.0    4   \n",
       "13199           Doddathoguru      1 BHK       550.0   1.0   17.0    1   \n",
       "\n",
       "       price_per_sqft  \n",
       "13195            6689  \n",
       "13196           11111  \n",
       "13197            5258  \n",
       "13198           10407  \n",
       "13199            3090  "
      ]
     },
     "execution_count": 70,
     "metadata": {},
     "output_type": "execute_result"
    }
   ],
   "source": [
    "# Check the last 5 rows of the data\n",
    "data.tail()"
   ]
  },
  {
   "cell_type": "code",
   "execution_count": 72,
   "id": "7a8f8ab4-e2f9-4edf-9f75-2a46f729ba0b",
   "metadata": {},
   "outputs": [
    {
     "name": "stdout",
     "output_type": "stream",
     "text": [
      "location           object\n",
      "size               object\n",
      "total_sqft        float64\n",
      "bath              float64\n",
      "price             float64\n",
      "bhk                 int64\n",
      "price_per_sqft      int64\n",
      "dtype: object\n"
     ]
    }
   ],
   "source": [
    "# Check the data types of each column\n",
    "print(data.dtypes)"
   ]
  },
  {
   "cell_type": "code",
   "execution_count": 74,
   "id": "3f704b7c-4f5c-4360-aeb7-dcc0f2c16b35",
   "metadata": {},
   "outputs": [
    {
     "data": {
      "text/plain": [
       "(13200, 7)"
      ]
     },
     "execution_count": 74,
     "metadata": {},
     "output_type": "execute_result"
    }
   ],
   "source": [
    "# Check the shape of the dataset\n",
    "data.shape"
   ]
  },
  {
   "cell_type": "code",
   "execution_count": 76,
   "id": "86f0a5cc-5d45-46f6-8ac2-5483557b0504",
   "metadata": {},
   "outputs": [
    {
     "data": {
      "text/plain": [
       "Index(['location', 'size', 'total_sqft', 'bath', 'price', 'bhk',\n",
       "       'price_per_sqft'],\n",
       "      dtype='object')"
      ]
     },
     "execution_count": 76,
     "metadata": {},
     "output_type": "execute_result"
    }
   ],
   "source": [
    "data.columns"
   ]
  },
  {
   "cell_type": "code",
   "execution_count": 78,
   "id": "098a9fe7-b95a-4d5c-a530-353aa497df65",
   "metadata": {},
   "outputs": [
    {
     "name": "stdout",
     "output_type": "stream",
     "text": [
      "Missing values in each column:\n",
      "location          0\n",
      "size              0\n",
      "total_sqft        0\n",
      "bath              0\n",
      "price             0\n",
      "bhk               0\n",
      "price_per_sqft    0\n",
      "dtype: int64\n"
     ]
    }
   ],
   "source": [
    "# Check for the missing values\n",
    "missing_values = data.isnull().sum()\n",
    "print(\"Missing values in each column:\")\n",
    "print(missing_values)"
   ]
  },
  {
   "cell_type": "code",
   "execution_count": 80,
   "id": "28d43c5a-3e3c-4578-954b-15c85156a84d",
   "metadata": {},
   "outputs": [
    {
     "data": {
      "text/plain": [
       "1049"
      ]
     },
     "execution_count": 80,
     "metadata": {},
     "output_type": "execute_result"
    }
   ],
   "source": [
    "# Check for the duplicated values and handling it\n",
    "data.duplicated().sum()"
   ]
  },
  {
   "cell_type": "code",
   "execution_count": 176,
   "id": "9ef4e43c-761b-474d-a726-ada7fddddff2",
   "metadata": {},
   "outputs": [],
   "source": [
    "data.drop_duplicates(inplace = True)"
   ]
  },
  {
   "cell_type": "code",
   "execution_count": 84,
   "id": "46dc4192-3a30-4e17-b163-b6361559ee9a",
   "metadata": {},
   "outputs": [
    {
     "data": {
      "text/plain": [
       "(12151, 7)"
      ]
     },
     "execution_count": 84,
     "metadata": {},
     "output_type": "execute_result"
    }
   ],
   "source": [
    "data.shape"
   ]
  },
  {
   "cell_type": "code",
   "execution_count": 90,
   "id": "b908d3b8-c428-4b0c-8d6f-4e9692d2d871",
   "metadata": {},
   "outputs": [
    {
     "data": {
      "text/html": [
       "<div>\n",
       "<style scoped>\n",
       "    .dataframe tbody tr th:only-of-type {\n",
       "        vertical-align: middle;\n",
       "    }\n",
       "\n",
       "    .dataframe tbody tr th {\n",
       "        vertical-align: top;\n",
       "    }\n",
       "\n",
       "    .dataframe thead th {\n",
       "        text-align: right;\n",
       "    }\n",
       "</style>\n",
       "<table border=\"1\" class=\"dataframe\">\n",
       "  <thead>\n",
       "    <tr style=\"text-align: right;\">\n",
       "      <th></th>\n",
       "      <th>total_sqft</th>\n",
       "      <th>bath</th>\n",
       "      <th>price</th>\n",
       "      <th>bhk</th>\n",
       "      <th>price_per_sqft</th>\n",
       "    </tr>\n",
       "  </thead>\n",
       "  <tbody>\n",
       "    <tr>\n",
       "      <th>count</th>\n",
       "      <td>12151.000000</td>\n",
       "      <td>12151.000000</td>\n",
       "      <td>12151.000000</td>\n",
       "      <td>12151.000000</td>\n",
       "      <td>1.215100e+04</td>\n",
       "    </tr>\n",
       "    <tr>\n",
       "      <th>mean</th>\n",
       "      <td>1574.846013</td>\n",
       "      <td>2.719941</td>\n",
       "      <td>115.471328</td>\n",
       "      <td>2.827504</td>\n",
       "      <td>8.132642e+03</td>\n",
       "    </tr>\n",
       "    <tr>\n",
       "      <th>std</th>\n",
       "      <td>1277.328354</td>\n",
       "      <td>1.372210</td>\n",
       "      <td>154.094133</td>\n",
       "      <td>1.326540</td>\n",
       "      <td>1.112329e+05</td>\n",
       "    </tr>\n",
       "    <tr>\n",
       "      <th>min</th>\n",
       "      <td>1.000000</td>\n",
       "      <td>1.000000</td>\n",
       "      <td>8.000000</td>\n",
       "      <td>1.000000</td>\n",
       "      <td>2.670000e+02</td>\n",
       "    </tr>\n",
       "    <tr>\n",
       "      <th>25%</th>\n",
       "      <td>1100.000000</td>\n",
       "      <td>2.000000</td>\n",
       "      <td>50.000000</td>\n",
       "      <td>2.000000</td>\n",
       "      <td>4.312000e+03</td>\n",
       "    </tr>\n",
       "    <tr>\n",
       "      <th>50%</th>\n",
       "      <td>1290.000000</td>\n",
       "      <td>2.000000</td>\n",
       "      <td>74.000000</td>\n",
       "      <td>3.000000</td>\n",
       "      <td>5.500000e+03</td>\n",
       "    </tr>\n",
       "    <tr>\n",
       "      <th>75%</th>\n",
       "      <td>1700.000000</td>\n",
       "      <td>3.000000</td>\n",
       "      <td>123.500000</td>\n",
       "      <td>3.000000</td>\n",
       "      <td>7.461000e+03</td>\n",
       "    </tr>\n",
       "    <tr>\n",
       "      <th>max</th>\n",
       "      <td>52272.000000</td>\n",
       "      <td>40.000000</td>\n",
       "      <td>3600.000000</td>\n",
       "      <td>43.000000</td>\n",
       "      <td>1.200000e+07</td>\n",
       "    </tr>\n",
       "  </tbody>\n",
       "</table>\n",
       "</div>"
      ],
      "text/plain": [
       "         total_sqft          bath         price           bhk  price_per_sqft\n",
       "count  12151.000000  12151.000000  12151.000000  12151.000000    1.215100e+04\n",
       "mean    1574.846013      2.719941    115.471328      2.827504    8.132642e+03\n",
       "std     1277.328354      1.372210    154.094133      1.326540    1.112329e+05\n",
       "min        1.000000      1.000000      8.000000      1.000000    2.670000e+02\n",
       "25%     1100.000000      2.000000     50.000000      2.000000    4.312000e+03\n",
       "50%     1290.000000      2.000000     74.000000      3.000000    5.500000e+03\n",
       "75%     1700.000000      3.000000    123.500000      3.000000    7.461000e+03\n",
       "max    52272.000000     40.000000   3600.000000     43.000000    1.200000e+07"
      ]
     },
     "execution_count": 90,
     "metadata": {},
     "output_type": "execute_result"
    }
   ],
   "source": [
    "# Calculate the summary statistics\n",
    "data.describe()"
   ]
  },
  {
   "cell_type": "markdown",
   "id": "ccb22f72-22c2-438c-bcd5-e29d7ffa0043",
   "metadata": {},
   "source": []
  },
  {
   "cell_type": "markdown",
   "id": "9bbda272-a563-4958-9b93-d3ddf919fb97",
   "metadata": {},
   "source": [
    "## Q2. Detect the outliers using following methods and remove it using methods like trimming / capping/ imputation using mean or median (Score: 4) \n",
    "     a) Mean and Standard deviation\n",
    "     b) Percentile method \n",
    "     c) IQR(Inter quartile range method) \n",
    "     d) Z Score method"
   ]
  },
  {
   "cell_type": "code",
   "execution_count": 92,
   "id": "e70300e5-31d6-4352-9552-a91723cd6777",
   "metadata": {},
   "outputs": [],
   "source": [
    "import numpy as np\n",
    "import pandas as pd\n",
    "import matplotlib.pyplot as plt\n",
    "import seaborn as sns"
   ]
  },
  {
   "cell_type": "markdown",
   "id": "750bd0d6-d839-4fff-bfcc-fb590b8e4ed4",
   "metadata": {},
   "source": [
    "### a) Mean and Standard deviation"
   ]
  },
  {
   "cell_type": "code",
   "execution_count": 94,
   "id": "e1f2b420-910c-4eb7-b801-1fb84681fd2c",
   "metadata": {},
   "outputs": [],
   "source": [
    "mean = data['price_per_sqft'].mean()\n",
    "std_dev = data['price_per_sqft'].std()\n",
    "lower_bound = mean - 2 * std_dev\n",
    "upper_bound = mean + 2 * std_dev"
   ]
  },
  {
   "cell_type": "code",
   "execution_count": 96,
   "id": "2bbcead2-2750-4b14-9b34-fe2e95b18e62",
   "metadata": {},
   "outputs": [],
   "source": [
    "# Remove outliers from the original dataset\n",
    "data2 = data[(data['price_per_sqft'] >= lower_bound) & (data['price_per_sqft'] <= upper_bound)]"
   ]
  },
  {
   "cell_type": "code",
   "execution_count": 102,
   "id": "67cd7b5a-452e-4a1d-8384-0ceebfe36d61",
   "metadata": {},
   "outputs": [
    {
     "name": "stdout",
     "output_type": "stream",
     "text": [
      "old_data: (12151, 7)\n"
     ]
    }
   ],
   "source": [
    "print(\"old_data:\",data.shape)"
   ]
  },
  {
   "cell_type": "code",
   "execution_count": 106,
   "id": "eb0fa803-c3f7-4651-a156-8afe7f88b20e",
   "metadata": {},
   "outputs": [
    {
     "name": "stdout",
     "output_type": "stream",
     "text": [
      "shape of the data after removing the outliers: (12146, 7)\n"
     ]
    }
   ],
   "source": [
    "print(\"shape of the data after removing the outliers:\",data2.shape)"
   ]
  },
  {
   "cell_type": "code",
   "execution_count": 110,
   "id": "389327d5-ca00-40e9-8503-44dc364682e2",
   "metadata": {},
   "outputs": [
    {
     "data": {
      "text/plain": [
       "<Axes: ylabel='price_per_sqft'>"
      ]
     },
     "execution_count": 110,
     "metadata": {},
     "output_type": "execute_result"
    },
    {
     "data": {
      "image/png": "[encoded data removed]",
      "text/plain": [
       "<Figure size 640x480 with 1 Axes>"
      ]
     },
     "metadata": {},
     "output_type": "display_data"
    }
   ],
   "source": [
    "sns.boxplot(data2['price_per_sqft'])"
   ]
  },
  {
   "cell_type": "markdown",
   "id": "c3854788-af2c-412e-97a1-eff49e3769bc",
   "metadata": {},
   "source": [
    "### b)Percentile method"
   ]
  },
  {
   "cell_type": "code",
   "execution_count": 115,
   "id": "70114f53-e8bf-4042-91ba-bce497dd3b21",
   "metadata": {},
   "outputs": [
    {
     "name": "stdout",
     "output_type": "stream",
     "text": [
      "upper limit: 24000.0\n",
      "lower limit: 2532.0\n"
     ]
    }
   ],
   "source": [
    "upper_limit = data['price_per_sqft'].quantile(0.99)\n",
    "lower_limit = data['price_per_sqft'].quantile(0.01)\n",
    "print(\"upper limit:\", upper_limit)\n",
    "print(\"lower limit:\", lower_limit)"
   ]
  },
  {
   "cell_type": "code",
   "execution_count": 121,
   "id": "e7514aec-f2d6-4bcb-90a1-7361550ef9c3",
   "metadata": {},
   "outputs": [
    {
     "data": {
      "text/html": [
       "<div>\n",
       "<style scoped>\n",
       "    .dataframe tbody tr th:only-of-type {\n",
       "        vertical-align: middle;\n",
       "    }\n",
       "\n",
       "    .dataframe tbody tr th {\n",
       "        vertical-align: top;\n",
       "    }\n",
       "\n",
       "    .dataframe thead th {\n",
       "        text-align: right;\n",
       "    }\n",
       "</style>\n",
       "<table border=\"1\" class=\"dataframe\">\n",
       "  <thead>\n",
       "    <tr style=\"text-align: right;\">\n",
       "      <th></th>\n",
       "      <th>location</th>\n",
       "      <th>size</th>\n",
       "      <th>total_sqft</th>\n",
       "      <th>bath</th>\n",
       "      <th>price</th>\n",
       "      <th>bhk</th>\n",
       "      <th>price_per_sqft</th>\n",
       "    </tr>\n",
       "  </thead>\n",
       "  <tbody>\n",
       "    <tr>\n",
       "      <th>9</th>\n",
       "      <td>other</td>\n",
       "      <td>6 Bedroom</td>\n",
       "      <td>1020.0</td>\n",
       "      <td>6.0</td>\n",
       "      <td>370.0</td>\n",
       "      <td>6</td>\n",
       "      <td>36274</td>\n",
       "    </tr>\n",
       "    <tr>\n",
       "      <th>20</th>\n",
       "      <td>Kengeri</td>\n",
       "      <td>1 BHK</td>\n",
       "      <td>600.0</td>\n",
       "      <td>1.0</td>\n",
       "      <td>15.0</td>\n",
       "      <td>1</td>\n",
       "      <td>2500</td>\n",
       "    </tr>\n",
       "    <tr>\n",
       "      <th>45</th>\n",
       "      <td>HSR Layout</td>\n",
       "      <td>8 Bedroom</td>\n",
       "      <td>600.0</td>\n",
       "      <td>9.0</td>\n",
       "      <td>200.0</td>\n",
       "      <td>8</td>\n",
       "      <td>33333</td>\n",
       "    </tr>\n",
       "    <tr>\n",
       "      <th>130</th>\n",
       "      <td>Electronic City</td>\n",
       "      <td>2 BHK</td>\n",
       "      <td>880.0</td>\n",
       "      <td>1.0</td>\n",
       "      <td>16.5</td>\n",
       "      <td>2</td>\n",
       "      <td>1875</td>\n",
       "    </tr>\n",
       "    <tr>\n",
       "      <th>169</th>\n",
       "      <td>Attibele</td>\n",
       "      <td>1 BHK</td>\n",
       "      <td>450.0</td>\n",
       "      <td>1.0</td>\n",
       "      <td>11.0</td>\n",
       "      <td>1</td>\n",
       "      <td>2444</td>\n",
       "    </tr>\n",
       "    <tr>\n",
       "      <th>...</th>\n",
       "      <td>...</td>\n",
       "      <td>...</td>\n",
       "      <td>...</td>\n",
       "      <td>...</td>\n",
       "      <td>...</td>\n",
       "      <td>...</td>\n",
       "      <td>...</td>\n",
       "    </tr>\n",
       "    <tr>\n",
       "      <th>12948</th>\n",
       "      <td>other</td>\n",
       "      <td>10 Bedroom</td>\n",
       "      <td>7150.0</td>\n",
       "      <td>13.0</td>\n",
       "      <td>3600.0</td>\n",
       "      <td>10</td>\n",
       "      <td>50349</td>\n",
       "    </tr>\n",
       "    <tr>\n",
       "      <th>13013</th>\n",
       "      <td>other</td>\n",
       "      <td>4 Bedroom</td>\n",
       "      <td>1200.0</td>\n",
       "      <td>5.0</td>\n",
       "      <td>350.0</td>\n",
       "      <td>4</td>\n",
       "      <td>29166</td>\n",
       "    </tr>\n",
       "    <tr>\n",
       "      <th>13078</th>\n",
       "      <td>other</td>\n",
       "      <td>4 Bedroom</td>\n",
       "      <td>9200.0</td>\n",
       "      <td>4.0</td>\n",
       "      <td>2600.0</td>\n",
       "      <td>4</td>\n",
       "      <td>28260</td>\n",
       "    </tr>\n",
       "    <tr>\n",
       "      <th>13081</th>\n",
       "      <td>other</td>\n",
       "      <td>6 Bedroom</td>\n",
       "      <td>8000.0</td>\n",
       "      <td>6.0</td>\n",
       "      <td>2800.0</td>\n",
       "      <td>6</td>\n",
       "      <td>35000</td>\n",
       "    </tr>\n",
       "    <tr>\n",
       "      <th>13185</th>\n",
       "      <td>Hulimavu</td>\n",
       "      <td>1 BHK</td>\n",
       "      <td>500.0</td>\n",
       "      <td>1.0</td>\n",
       "      <td>220.0</td>\n",
       "      <td>1</td>\n",
       "      <td>44000</td>\n",
       "    </tr>\n",
       "  </tbody>\n",
       "</table>\n",
       "<p>243 rows × 7 columns</p>\n",
       "</div>"
      ],
      "text/plain": [
       "              location        size  total_sqft  bath   price  bhk  \\\n",
       "9                other   6 Bedroom      1020.0   6.0   370.0    6   \n",
       "20             Kengeri       1 BHK       600.0   1.0    15.0    1   \n",
       "45          HSR Layout   8 Bedroom       600.0   9.0   200.0    8   \n",
       "130    Electronic City       2 BHK       880.0   1.0    16.5    2   \n",
       "169           Attibele       1 BHK       450.0   1.0    11.0    1   \n",
       "...                ...         ...         ...   ...     ...  ...   \n",
       "12948            other  10 Bedroom      7150.0  13.0  3600.0   10   \n",
       "13013            other   4 Bedroom      1200.0   5.0   350.0    4   \n",
       "13078            other   4 Bedroom      9200.0   4.0  2600.0    4   \n",
       "13081            other   6 Bedroom      8000.0   6.0  2800.0    6   \n",
       "13185         Hulimavu       1 BHK       500.0   1.0   220.0    1   \n",
       "\n",
       "       price_per_sqft  \n",
       "9               36274  \n",
       "20               2500  \n",
       "45              33333  \n",
       "130              1875  \n",
       "169              2444  \n",
       "...               ...  \n",
       "12948           50349  \n",
       "13013           29166  \n",
       "13078           28260  \n",
       "13081           35000  \n",
       "13185           44000  \n",
       "\n",
       "[243 rows x 7 columns]"
      ]
     },
     "execution_count": 121,
     "metadata": {},
     "output_type": "execute_result"
    }
   ],
   "source": [
    "# find the outliers\n",
    "data.loc[(data['price_per_sqft'] > upper_limit) | (data['price_per_sqft'] < lower_limit)]"
   ]
  },
  {
   "cell_type": "code",
   "execution_count": 128,
   "id": "0567a37e-8834-48a4-9542-28c2547a5feb",
   "metadata": {},
   "outputs": [
    {
     "name": "stdout",
     "output_type": "stream",
     "text": [
      "before removing outliers: 12151\n",
      "after removing outliers: 11908\n",
      "outliers: 243\n"
     ]
    }
   ],
   "source": [
    "# removing outliers using trimming\n",
    "data3 = data.loc[(data2['price_per_sqft'] <= upper_limit) & (data['price_per_sqft'] >= lower_limit)]\n",
    "print(\"before removing outliers:\", len(data))\n",
    "print(\"after removing outliers:\", len(data3))\n",
    "print(\"outliers:\", len(data)-len(data3))"
   ]
  },
  {
   "cell_type": "code",
   "execution_count": 126,
   "id": "3010de48-68e6-42ef-ac70-15c3ebdb1796",
   "metadata": {},
   "outputs": [
    {
     "data": {
      "text/plain": [
       "<Axes: ylabel='price_per_sqft'>"
      ]
     },
     "execution_count": 126,
     "metadata": {},
     "output_type": "execute_result"
    },
    {
     "data": {
      "image/png": "[encoded data removed]",
      "text/plain": [
       "<Figure size 640x480 with 1 Axes>"
      ]
     },
     "metadata": {},
     "output_type": "display_data"
    }
   ],
   "source": [
    "sns.boxplot(data3['price_per_sqft'])"
   ]
  },
  {
   "cell_type": "markdown",
   "id": "786312ae-ba56-4fd6-a057-86a74f3503e1",
   "metadata": {},
   "source": [
    "### c) IQR(Inter quartile range method)"
   ]
  },
  {
   "cell_type": "code",
   "execution_count": 132,
   "id": "254da541-aa02-4e3e-8334-2dd12bc8e242",
   "metadata": {},
   "outputs": [],
   "source": [
    "q1 = data['price_per_sqft'].quantile(0.25)\n",
    "q3 = data['price_per_sqft'].quantile(0.75)\n",
    "iqr = q3 - q1"
   ]
  },
  {
   "cell_type": "code",
   "execution_count": 134,
   "id": "0759430c-7890-418e-b61b-3de7623b368c",
   "metadata": {},
   "outputs": [
    {
     "data": {
      "text/plain": [
       "(4312.0, 7461.0, 3149.0)"
      ]
     },
     "execution_count": 134,
     "metadata": {},
     "output_type": "execute_result"
    }
   ],
   "source": [
    "q1, q3, iqr"
   ]
  },
  {
   "cell_type": "code",
   "execution_count": 136,
   "id": "580845c6-5976-422c-ba0a-431a79647bab",
   "metadata": {},
   "outputs": [
    {
     "data": {
      "text/plain": [
       "(12184.5, -411.5)"
      ]
     },
     "execution_count": 136,
     "metadata": {},
     "output_type": "execute_result"
    }
   ],
   "source": [
    "upper_limit = q3 + (1.5 * iqr)\n",
    "lower_limit = q1 - (1.5 * iqr)\n",
    "upper_limit, lower_limit"
   ]
  },
  {
   "cell_type": "code",
   "execution_count": 138,
   "id": "0ac9fec8-8379-4923-9eca-a9da19c3564b",
   "metadata": {},
   "outputs": [
    {
     "data": {
      "text/html": [
       "<div>\n",
       "<style scoped>\n",
       "    .dataframe tbody tr th:only-of-type {\n",
       "        vertical-align: middle;\n",
       "    }\n",
       "\n",
       "    .dataframe tbody tr th {\n",
       "        vertical-align: top;\n",
       "    }\n",
       "\n",
       "    .dataframe thead th {\n",
       "        text-align: right;\n",
       "    }\n",
       "</style>\n",
       "<table border=\"1\" class=\"dataframe\">\n",
       "  <thead>\n",
       "    <tr style=\"text-align: right;\">\n",
       "      <th></th>\n",
       "      <th>location</th>\n",
       "      <th>size</th>\n",
       "      <th>total_sqft</th>\n",
       "      <th>bath</th>\n",
       "      <th>price</th>\n",
       "      <th>bhk</th>\n",
       "      <th>price_per_sqft</th>\n",
       "    </tr>\n",
       "  </thead>\n",
       "  <tbody>\n",
       "    <tr>\n",
       "      <th>7</th>\n",
       "      <td>Rajaji Nagar</td>\n",
       "      <td>4 BHK</td>\n",
       "      <td>3300.0</td>\n",
       "      <td>4.0</td>\n",
       "      <td>600.0</td>\n",
       "      <td>4</td>\n",
       "      <td>18181</td>\n",
       "    </tr>\n",
       "    <tr>\n",
       "      <th>9</th>\n",
       "      <td>other</td>\n",
       "      <td>6 Bedroom</td>\n",
       "      <td>1020.0</td>\n",
       "      <td>6.0</td>\n",
       "      <td>370.0</td>\n",
       "      <td>6</td>\n",
       "      <td>36274</td>\n",
       "    </tr>\n",
       "    <tr>\n",
       "      <th>22</th>\n",
       "      <td>Thanisandra</td>\n",
       "      <td>4 Bedroom</td>\n",
       "      <td>2800.0</td>\n",
       "      <td>5.0</td>\n",
       "      <td>380.0</td>\n",
       "      <td>4</td>\n",
       "      <td>13571</td>\n",
       "    </tr>\n",
       "    <tr>\n",
       "      <th>45</th>\n",
       "      <td>HSR Layout</td>\n",
       "      <td>8 Bedroom</td>\n",
       "      <td>600.0</td>\n",
       "      <td>9.0</td>\n",
       "      <td>200.0</td>\n",
       "      <td>8</td>\n",
       "      <td>33333</td>\n",
       "    </tr>\n",
       "    <tr>\n",
       "      <th>48</th>\n",
       "      <td>KR Puram</td>\n",
       "      <td>2 Bedroom</td>\n",
       "      <td>800.0</td>\n",
       "      <td>1.0</td>\n",
       "      <td>130.0</td>\n",
       "      <td>2</td>\n",
       "      <td>16250</td>\n",
       "    </tr>\n",
       "    <tr>\n",
       "      <th>...</th>\n",
       "      <td>...</td>\n",
       "      <td>...</td>\n",
       "      <td>...</td>\n",
       "      <td>...</td>\n",
       "      <td>...</td>\n",
       "      <td>...</td>\n",
       "      <td>...</td>\n",
       "    </tr>\n",
       "    <tr>\n",
       "      <th>13114</th>\n",
       "      <td>other</td>\n",
       "      <td>3 BHK</td>\n",
       "      <td>1903.0</td>\n",
       "      <td>2.0</td>\n",
       "      <td>293.0</td>\n",
       "      <td>3</td>\n",
       "      <td>15396</td>\n",
       "    </tr>\n",
       "    <tr>\n",
       "      <th>13141</th>\n",
       "      <td>other</td>\n",
       "      <td>3 Bedroom</td>\n",
       "      <td>2000.0</td>\n",
       "      <td>2.0</td>\n",
       "      <td>360.0</td>\n",
       "      <td>3</td>\n",
       "      <td>18000</td>\n",
       "    </tr>\n",
       "    <tr>\n",
       "      <th>13142</th>\n",
       "      <td>other</td>\n",
       "      <td>2 BHK</td>\n",
       "      <td>1140.0</td>\n",
       "      <td>1.0</td>\n",
       "      <td>185.0</td>\n",
       "      <td>2</td>\n",
       "      <td>16228</td>\n",
       "    </tr>\n",
       "    <tr>\n",
       "      <th>13157</th>\n",
       "      <td>other</td>\n",
       "      <td>7 Bedroom</td>\n",
       "      <td>1400.0</td>\n",
       "      <td>7.0</td>\n",
       "      <td>218.0</td>\n",
       "      <td>7</td>\n",
       "      <td>15571</td>\n",
       "    </tr>\n",
       "    <tr>\n",
       "      <th>13185</th>\n",
       "      <td>Hulimavu</td>\n",
       "      <td>1 BHK</td>\n",
       "      <td>500.0</td>\n",
       "      <td>1.0</td>\n",
       "      <td>220.0</td>\n",
       "      <td>1</td>\n",
       "      <td>44000</td>\n",
       "    </tr>\n",
       "  </tbody>\n",
       "</table>\n",
       "<p>1142 rows × 7 columns</p>\n",
       "</div>"
      ],
      "text/plain": [
       "           location       size  total_sqft  bath  price  bhk  price_per_sqft\n",
       "7      Rajaji Nagar      4 BHK      3300.0   4.0  600.0    4           18181\n",
       "9             other  6 Bedroom      1020.0   6.0  370.0    6           36274\n",
       "22      Thanisandra  4 Bedroom      2800.0   5.0  380.0    4           13571\n",
       "45       HSR Layout  8 Bedroom       600.0   9.0  200.0    8           33333\n",
       "48         KR Puram  2 Bedroom       800.0   1.0  130.0    2           16250\n",
       "...             ...        ...         ...   ...    ...  ...             ...\n",
       "13114         other      3 BHK      1903.0   2.0  293.0    3           15396\n",
       "13141         other  3 Bedroom      2000.0   2.0  360.0    3           18000\n",
       "13142         other      2 BHK      1140.0   1.0  185.0    2           16228\n",
       "13157         other  7 Bedroom      1400.0   7.0  218.0    7           15571\n",
       "13185      Hulimavu      1 BHK       500.0   1.0  220.0    1           44000\n",
       "\n",
       "[1142 rows x 7 columns]"
      ]
     },
     "execution_count": 138,
     "metadata": {},
     "output_type": "execute_result"
    }
   ],
   "source": [
    "# find the outliers\n",
    "data.loc[(data['price_per_sqft'] > upper_limit) | (data['price_per_sqft'] < lower_limit)]"
   ]
  },
  {
   "cell_type": "code",
   "execution_count": 140,
   "id": "67fc4ccd-58ad-4760-81a5-c2f8db7ea70d",
   "metadata": {},
   "outputs": [
    {
     "name": "stdout",
     "output_type": "stream",
     "text": [
      "before removing outliers: 12151\n",
      "after removing outliers: 11009\n",
      "outliers: 1142\n"
     ]
    }
   ],
   "source": [
    "# removing outliers using trimming\n",
    "data4 = data.loc[(data['price_per_sqft'] <= upper_limit) & (data['price_per_sqft'] >= lower_limit)]\n",
    "print(\"before removing outliers:\", len(data))\n",
    "print(\"after removing outliers:\", len(data4))\n",
    "print(\"outliers:\", len(data)-len(data4))"
   ]
  },
  {
   "cell_type": "code",
   "execution_count": 142,
   "id": "fe13b0bc-9d5f-443b-82c1-383c2e9a8bcf",
   "metadata": {},
   "outputs": [
    {
     "data": {
      "text/plain": [
       "<Axes: ylabel='price_per_sqft'>"
      ]
     },
     "execution_count": 142,
     "metadata": {},
     "output_type": "execute_result"
    },
    {
     "data": {
      "image/png": "[encoded data removed]",
      "text/plain": [
       "<Figure size 640x480 with 1 Axes>"
      ]
     },
     "metadata": {},
     "output_type": "display_data"
    }
   ],
   "source": [
    "sns.boxplot(data4['price_per_sqft'])"
   ]
  },
  {
   "cell_type": "markdown",
   "id": "67d0e4c5-f8fd-4c5f-b1fb-909319e0b7b7",
   "metadata": {},
   "source": [
    "### d) Z Score method"
   ]
  },
  {
   "cell_type": "code",
   "execution_count": 149,
   "id": "a346b257-3ff0-4c5e-9217-44d5ce9e53d7",
   "metadata": {},
   "outputs": [
    {
     "name": "stdout",
     "output_type": "stream",
     "text": [
      "Upper limit: 341831.3445273039\n",
      "Lower limit: -325566.06084694836\n"
     ]
    }
   ],
   "source": [
    "# find the limits\n",
    "upper_limit = data['price_per_sqft'].mean() + 3*data['price_per_sqft'].std()\n",
    "lower_limit = data['price_per_sqft'].mean() - 3*data['price_per_sqft'].std()\n",
    "print(\"Upper limit:\", upper_limit)\n",
    "print(\"Lower limit:\", lower_limit)"
   ]
  },
  {
   "cell_type": "code",
   "execution_count": 153,
   "id": "9a0acfaf-ceaf-497a-8357-b4926591c5b8",
   "metadata": {},
   "outputs": [
    {
     "data": {
      "text/html": [
       "<div>\n",
       "<style scoped>\n",
       "    .dataframe tbody tr th:only-of-type {\n",
       "        vertical-align: middle;\n",
       "    }\n",
       "\n",
       "    .dataframe tbody tr th {\n",
       "        vertical-align: top;\n",
       "    }\n",
       "\n",
       "    .dataframe thead th {\n",
       "        text-align: right;\n",
       "    }\n",
       "</style>\n",
       "<table border=\"1\" class=\"dataframe\">\n",
       "  <thead>\n",
       "    <tr style=\"text-align: right;\">\n",
       "      <th></th>\n",
       "      <th>location</th>\n",
       "      <th>size</th>\n",
       "      <th>total_sqft</th>\n",
       "      <th>bath</th>\n",
       "      <th>price</th>\n",
       "      <th>bhk</th>\n",
       "      <th>price_per_sqft</th>\n",
       "    </tr>\n",
       "  </thead>\n",
       "  <tbody>\n",
       "    <tr>\n",
       "      <th>345</th>\n",
       "      <td>other</td>\n",
       "      <td>3 Bedroom</td>\n",
       "      <td>11.0</td>\n",
       "      <td>3.0</td>\n",
       "      <td>74.0</td>\n",
       "      <td>3</td>\n",
       "      <td>672727</td>\n",
       "    </tr>\n",
       "    <tr>\n",
       "      <th>1106</th>\n",
       "      <td>other</td>\n",
       "      <td>5 Bedroom</td>\n",
       "      <td>24.0</td>\n",
       "      <td>2.0</td>\n",
       "      <td>150.0</td>\n",
       "      <td>5</td>\n",
       "      <td>625000</td>\n",
       "    </tr>\n",
       "    <tr>\n",
       "      <th>4044</th>\n",
       "      <td>Sarjapur  Road</td>\n",
       "      <td>4 Bedroom</td>\n",
       "      <td>1.0</td>\n",
       "      <td>4.0</td>\n",
       "      <td>120.0</td>\n",
       "      <td>4</td>\n",
       "      <td>12000000</td>\n",
       "    </tr>\n",
       "    <tr>\n",
       "      <th>4924</th>\n",
       "      <td>other</td>\n",
       "      <td>7 BHK</td>\n",
       "      <td>5.0</td>\n",
       "      <td>7.0</td>\n",
       "      <td>115.0</td>\n",
       "      <td>7</td>\n",
       "      <td>2300000</td>\n",
       "    </tr>\n",
       "    <tr>\n",
       "      <th>11447</th>\n",
       "      <td>Whitefield</td>\n",
       "      <td>4 Bedroom</td>\n",
       "      <td>60.0</td>\n",
       "      <td>4.0</td>\n",
       "      <td>218.0</td>\n",
       "      <td>4</td>\n",
       "      <td>363333</td>\n",
       "    </tr>\n",
       "  </tbody>\n",
       "</table>\n",
       "</div>"
      ],
      "text/plain": [
       "             location       size  total_sqft  bath  price  bhk  price_per_sqft\n",
       "345             other  3 Bedroom        11.0   3.0   74.0    3          672727\n",
       "1106            other  5 Bedroom        24.0   2.0  150.0    5          625000\n",
       "4044   Sarjapur  Road  4 Bedroom         1.0   4.0  120.0    4        12000000\n",
       "4924            other      7 BHK         5.0   7.0  115.0    7         2300000\n",
       "11447      Whitefield  4 Bedroom        60.0   4.0  218.0    4          363333"
      ]
     },
     "execution_count": 153,
     "metadata": {},
     "output_type": "execute_result"
    }
   ],
   "source": [
    "# find the outliers\n",
    "data.loc[(data['price_per_sqft'] > upper_limit) | (data['price_per_sqft'] < lower_limit)]"
   ]
  },
  {
   "cell_type": "code",
   "execution_count": 155,
   "id": "1874896a-3090-4616-840b-347eb95e65b2",
   "metadata": {},
   "outputs": [],
   "source": [
    "# removing outliers using trimming\n",
    "data5 = data.loc[(data['price_per_sqft'] < upper_limit) & (data['price_per_sqft'] > lower_limit)]"
   ]
  },
  {
   "cell_type": "code",
   "execution_count": 157,
   "id": "f94146fd-02e9-44ad-9d51-aa1a01801bab",
   "metadata": {},
   "outputs": [
    {
     "name": "stdout",
     "output_type": "stream",
     "text": [
      "before removing outliers: 12151\n",
      "after removing outliers: 12146\n",
      "outliers: 5\n"
     ]
    }
   ],
   "source": [
    "print(\"before removing outliers:\", len(data))\n",
    "print(\"after removing outliers:\", len(data5))\n",
    "print(\"outliers:\", len(data)-len(data5))"
   ]
  },
  {
   "cell_type": "code",
   "execution_count": 159,
   "id": "a948599b-a2e6-4dfe-ad49-03f149337f2e",
   "metadata": {},
   "outputs": [
    {
     "data": {
      "text/plain": [
       "<Axes: ylabel='price_per_sqft'>"
      ]
     },
     "execution_count": 159,
     "metadata": {},
     "output_type": "execute_result"
    },
    {
     "data": {
      "image/png": "[encoded data removed]",
      "text/plain": [
       "<Figure size 640x480 with 1 Axes>"
      ]
     },
     "metadata": {},
     "output_type": "display_data"
    }
   ],
   "source": [
    "sns.boxplot(data5['price_per_sqft'])"
   ]
  },
  {
   "cell_type": "markdown",
   "id": "0d0abe1a-e03d-4c45-b4d8-0e9bc96d4e98",
   "metadata": {},
   "source": []
  },
  {
   "cell_type": "markdown",
   "id": "55759bf2-d6a2-4e03-8df5-526971c5a388",
   "metadata": {},
   "source": [
    "## Q3. Create a box plot and use this to determine which method seems to work best to remove outliers for this data? (Score:1)"
   ]
  },
  {
   "cell_type": "code",
   "execution_count": 161,
   "id": "bcbf42c4-8ab8-4788-9f94-f471dcfee554",
   "metadata": {},
   "outputs": [
    {
     "data": {
      "image/png": "[encoded data removed]",
      "text/plain": [
       "<Figure size 1000x600 with 4 Axes>"
      ]
     },
     "metadata": {},
     "output_type": "display_data"
    }
   ],
   "source": [
    "# Original data\n",
    "plt.figure(figsize=(10,6))\n",
    "plt.subplot(2,2,1)\n",
    "plt.boxplot(data2['price_per_sqft'])\n",
    "plt.title('Using mean and Standard deviation')\n",
    "\n",
    "# Data after removing outliers using Percentile Method\n",
    "plt.subplot(2,2,4)\n",
    "plt.boxplot(data3['price_per_sqft'])\n",
    "plt.title('Percentile Method')\n",
    "\n",
    "# Data after removing outliers using IQR Method\n",
    "plt.subplot(2,2,3)\n",
    "plt.boxplot(data4['price_per_sqft'])\n",
    "plt.title('IQR Method')\n",
    "\n",
    "# Data after removing outliers using Z-Score Method\n",
    "plt.subplot(2,2,2)\n",
    "plt.boxplot(data5['price_per_sqft'])\n",
    "plt.title('Z-Score Method')\n",
    "\n",
    "plt.tight_layout()\n",
    "plt.show()"
   ]
  },
  {
   "cell_type": "markdown",
   "id": "5640ca13-42c3-4bdf-8fc0-47ed1351c8a8",
   "metadata": {},
   "source": [
    "Based on the analysis using four different methods (Using Mean & Standard deviation, IQR Method, Percentile Method, and Z-Score Method), the IQR Method appears to be the most effective approach for removing the outliers from this dataset. This method successfully identified and removed outliers, resulting in a more stable and symmetric distribution. In comparison the Z-Score method identified 5 outliers, suggesting that it may not be as effective in capturing the full extent of oulier presence in this dataset. Therefore, based on the results, the IQR Method is recommended as the best approach for removing outliers from this dataset."
   ]
  },
  {
   "cell_type": "markdown",
   "id": "92c77a85-8f35-414c-82a8-50f0285ea4c1",
   "metadata": {},
   "source": []
  },
  {
   "cell_type": "markdown",
   "id": "cd5b609e-b4db-453d-8253-7d358b09210f",
   "metadata": {},
   "source": [
    "## Q4. Draw histplot to check the normality of the column(price per sqft column) and perform transformations if needed. Check the skewness and kurtosis before and after the transformation. (Score:1)"
   ]
  },
  {
   "cell_type": "code",
   "execution_count": 166,
   "id": "b7a598be-d25b-430f-b28b-fd5772214a6d",
   "metadata": {},
   "outputs": [],
   "source": [
    "import pandas as pd\n",
    "import matplotlib.pyplot as plt\n",
    "import seaborn as sns\n",
    "from scipy import stats"
   ]
  },
  {
   "cell_type": "code",
   "execution_count": 196,
   "id": "345de8b6-af7a-43a8-8d6b-bf92ecd5f9ac",
   "metadata": {},
   "outputs": [],
   "source": [
    "# Load the dataset\n",
    "data = pd.read_csv(\"C:\\\\Users\\\\aniru\\\\Downloads\\\\house_price.csv\")"
   ]
  },
  {
   "cell_type": "code",
   "execution_count": 200,
   "id": "79900117-cb42-4c33-8338-1a4c2fa1ea0d",
   "metadata": {},
   "outputs": [
    {
     "data": {
      "text/plain": [
       "1049"
      ]
     },
     "execution_count": 200,
     "metadata": {},
     "output_type": "execute_result"
    }
   ],
   "source": [
    "data.duplicated().sum()"
   ]
  },
  {
   "cell_type": "code",
   "execution_count": 206,
   "id": "d7643975-30fd-43c1-b84f-54a026de8b9f",
   "metadata": {},
   "outputs": [],
   "source": [
    "new_data = data.copy()"
   ]
  },
  {
   "cell_type": "code",
   "execution_count": 208,
   "id": "916474b5-22b1-4ea9-b914-b53bcfa3eea4",
   "metadata": {},
   "outputs": [],
   "source": [
    "new_data.drop_duplicates(inplace = True)"
   ]
  },
  {
   "cell_type": "code",
   "execution_count": 210,
   "id": "f945af8f-5a47-443a-8e72-fdf6646504ce",
   "metadata": {},
   "outputs": [
    {
     "data": {
      "text/html": [
       "<div>\n",
       "<style scoped>\n",
       "    .dataframe tbody tr th:only-of-type {\n",
       "        vertical-align: middle;\n",
       "    }\n",
       "\n",
       "    .dataframe tbody tr th {\n",
       "        vertical-align: top;\n",
       "    }\n",
       "\n",
       "    .dataframe thead th {\n",
       "        text-align: right;\n",
       "    }\n",
       "</style>\n",
       "<table border=\"1\" class=\"dataframe\">\n",
       "  <thead>\n",
       "    <tr style=\"text-align: right;\">\n",
       "      <th></th>\n",
       "      <th>location</th>\n",
       "      <th>size</th>\n",
       "      <th>total_sqft</th>\n",
       "      <th>bath</th>\n",
       "      <th>price</th>\n",
       "      <th>bhk</th>\n",
       "      <th>price_per_sqft</th>\n",
       "    </tr>\n",
       "  </thead>\n",
       "  <tbody>\n",
       "    <tr>\n",
       "      <th>0</th>\n",
       "      <td>Electronic City Phase II</td>\n",
       "      <td>2 BHK</td>\n",
       "      <td>1056.0</td>\n",
       "      <td>2.0</td>\n",
       "      <td>39.07</td>\n",
       "      <td>2</td>\n",
       "      <td>3699</td>\n",
       "    </tr>\n",
       "    <tr>\n",
       "      <th>1</th>\n",
       "      <td>Chikka Tirupathi</td>\n",
       "      <td>4 Bedroom</td>\n",
       "      <td>2600.0</td>\n",
       "      <td>5.0</td>\n",
       "      <td>120.00</td>\n",
       "      <td>4</td>\n",
       "      <td>4615</td>\n",
       "    </tr>\n",
       "    <tr>\n",
       "      <th>2</th>\n",
       "      <td>Uttarahalli</td>\n",
       "      <td>3 BHK</td>\n",
       "      <td>1440.0</td>\n",
       "      <td>2.0</td>\n",
       "      <td>62.00</td>\n",
       "      <td>3</td>\n",
       "      <td>4305</td>\n",
       "    </tr>\n",
       "    <tr>\n",
       "      <th>3</th>\n",
       "      <td>Lingadheeranahalli</td>\n",
       "      <td>3 BHK</td>\n",
       "      <td>1521.0</td>\n",
       "      <td>3.0</td>\n",
       "      <td>95.00</td>\n",
       "      <td>3</td>\n",
       "      <td>6245</td>\n",
       "    </tr>\n",
       "    <tr>\n",
       "      <th>4</th>\n",
       "      <td>Kothanur</td>\n",
       "      <td>2 BHK</td>\n",
       "      <td>1200.0</td>\n",
       "      <td>2.0</td>\n",
       "      <td>51.00</td>\n",
       "      <td>2</td>\n",
       "      <td>4250</td>\n",
       "    </tr>\n",
       "    <tr>\n",
       "      <th>...</th>\n",
       "      <td>...</td>\n",
       "      <td>...</td>\n",
       "      <td>...</td>\n",
       "      <td>...</td>\n",
       "      <td>...</td>\n",
       "      <td>...</td>\n",
       "      <td>...</td>\n",
       "    </tr>\n",
       "    <tr>\n",
       "      <th>13194</th>\n",
       "      <td>Green Glen Layout</td>\n",
       "      <td>3 BHK</td>\n",
       "      <td>1715.0</td>\n",
       "      <td>3.0</td>\n",
       "      <td>112.00</td>\n",
       "      <td>3</td>\n",
       "      <td>6530</td>\n",
       "    </tr>\n",
       "    <tr>\n",
       "      <th>13195</th>\n",
       "      <td>Whitefield</td>\n",
       "      <td>5 Bedroom</td>\n",
       "      <td>3453.0</td>\n",
       "      <td>4.0</td>\n",
       "      <td>231.00</td>\n",
       "      <td>5</td>\n",
       "      <td>6689</td>\n",
       "    </tr>\n",
       "    <tr>\n",
       "      <th>13196</th>\n",
       "      <td>other</td>\n",
       "      <td>4 BHK</td>\n",
       "      <td>3600.0</td>\n",
       "      <td>5.0</td>\n",
       "      <td>400.00</td>\n",
       "      <td>4</td>\n",
       "      <td>11111</td>\n",
       "    </tr>\n",
       "    <tr>\n",
       "      <th>13197</th>\n",
       "      <td>Raja Rajeshwari Nagar</td>\n",
       "      <td>2 BHK</td>\n",
       "      <td>1141.0</td>\n",
       "      <td>2.0</td>\n",
       "      <td>60.00</td>\n",
       "      <td>2</td>\n",
       "      <td>5258</td>\n",
       "    </tr>\n",
       "    <tr>\n",
       "      <th>13198</th>\n",
       "      <td>Padmanabhanagar</td>\n",
       "      <td>4 BHK</td>\n",
       "      <td>4689.0</td>\n",
       "      <td>4.0</td>\n",
       "      <td>488.00</td>\n",
       "      <td>4</td>\n",
       "      <td>10407</td>\n",
       "    </tr>\n",
       "  </tbody>\n",
       "</table>\n",
       "<p>12151 rows × 7 columns</p>\n",
       "</div>"
      ],
      "text/plain": [
       "                       location       size  total_sqft  bath   price  bhk  \\\n",
       "0      Electronic City Phase II      2 BHK      1056.0   2.0   39.07    2   \n",
       "1              Chikka Tirupathi  4 Bedroom      2600.0   5.0  120.00    4   \n",
       "2                   Uttarahalli      3 BHK      1440.0   2.0   62.00    3   \n",
       "3            Lingadheeranahalli      3 BHK      1521.0   3.0   95.00    3   \n",
       "4                      Kothanur      2 BHK      1200.0   2.0   51.00    2   \n",
       "...                         ...        ...         ...   ...     ...  ...   \n",
       "13194         Green Glen Layout      3 BHK      1715.0   3.0  112.00    3   \n",
       "13195                Whitefield  5 Bedroom      3453.0   4.0  231.00    5   \n",
       "13196                     other      4 BHK      3600.0   5.0  400.00    4   \n",
       "13197     Raja Rajeshwari Nagar      2 BHK      1141.0   2.0   60.00    2   \n",
       "13198           Padmanabhanagar      4 BHK      4689.0   4.0  488.00    4   \n",
       "\n",
       "       price_per_sqft  \n",
       "0                3699  \n",
       "1                4615  \n",
       "2                4305  \n",
       "3                6245  \n",
       "4                4250  \n",
       "...               ...  \n",
       "13194            6530  \n",
       "13195            6689  \n",
       "13196           11111  \n",
       "13197            5258  \n",
       "13198           10407  \n",
       "\n",
       "[12151 rows x 7 columns]"
      ]
     },
     "execution_count": 210,
     "metadata": {},
     "output_type": "execute_result"
    }
   ],
   "source": [
    "new_data"
   ]
  },
  {
   "cell_type": "code",
   "execution_count": 220,
   "id": "b5d5fc73-4ff6-46b6-8284-01ebc3bc1383",
   "metadata": {},
   "outputs": [
    {
     "data": {
      "image/png": "[encoded data removed]",
      "text/plain": [
       "<Figure size 800x600 with 1 Axes>"
      ]
     },
     "metadata": {},
     "output_type": "display_data"
    }
   ],
   "source": [
    "# Plot the histogram to check normality\n",
    "\n",
    "plt.figure(figsize=(8,6))\n",
    "sns.histplot(new_data['price_per_sqft'], kde=True)\n",
    "plt.title('Histogram of Price per Sqft')\n",
    "plt.show()"
   ]
  },
  {
   "cell_type": "code",
   "execution_count": 224,
   "id": "9559f9ec-3913-4f75-a5e2-c97b3fca0155",
   "metadata": {},
   "outputs": [
    {
     "name": "stdout",
     "output_type": "stream",
     "text": [
      "Skewness before transformation: 103.90\n",
      "Kurtosis before transformation: 11135.81\n"
     ]
    }
   ],
   "source": [
    "# Calculate skewness and kurtosis before transformation\n",
    "\n",
    "skewness_before = new_data['price_per_sqft'].skew()\n",
    "kurtosis_before = new_data['price_per_sqft'].kurt()\n",
    "\n",
    "print(f'Skewness before transformation: {skewness_before:.2f}')\n",
    "print(f'Kurtosis before transformation: {kurtosis_before:.2f}')"
   ]
  },
  {
   "cell_type": "code",
   "execution_count": 228,
   "id": "d1ea4b66-54f9-4647-b976-46984ff2cd46",
   "metadata": {},
   "outputs": [],
   "source": [
    "# Perform transformation (e.g., log transformation)\n",
    "\n",
    "new_data['price_per_sqft_Log'] = np.log(new_data['price_per_sqft'])"
   ]
  },
  {
   "cell_type": "code",
   "execution_count": 230,
   "id": "29c3e2b9-c49c-46ff-9c1d-7fd59be726fb",
   "metadata": {},
   "outputs": [
    {
     "data": {
      "image/png": "[encoded data removed]",
      "text/plain": [
       "<Figure size 800x600 with 1 Axes>"
      ]
     },
     "metadata": {},
     "output_type": "display_data"
    }
   ],
   "source": [
    "# Plot the histogram after transformation\n",
    "\n",
    "\n",
    "plt.figure(figsize=(8,6))\n",
    "sns.histplot(new_data['price_per_sqft_Log'], kde=True)\n",
    "plt.title('Histogram of Log Price per Sqft')\n",
    "plt.show()"
   ]
  },
  {
   "cell_type": "code",
   "execution_count": 232,
   "id": "f54820f0-8077-477d-8ec1-033275b25ecb",
   "metadata": {},
   "outputs": [
    {
     "name": "stdout",
     "output_type": "stream",
     "text": [
      "Skewness after transformation: 1.40\n",
      "Kurtosis after transformation: 9.41\n"
     ]
    }
   ],
   "source": [
    "# Calculate skewness and kurtosis after transformation\n",
    "\n",
    "\n",
    "skewness_after = new_data['price_per_sqft_Log'].skew()\n",
    "kurtosis_after = new_data['price_per_sqft_Log'].kurt()\n",
    "\n",
    "print(f'Skewness after transformation: {skewness_after:.2f}')\n",
    "print(f'Kurtosis after transformation: {kurtosis_after:.2f}')"
   ]
  },
  {
   "cell_type": "markdown",
   "id": "d203ad89-b6f0-4830-8767-40dc45809313",
   "metadata": {},
   "source": []
  },
  {
   "cell_type": "markdown",
   "id": "7b727684-12b7-4b75-85fc-ab6560906934",
   "metadata": {},
   "source": [
    "## Q5. Check the correlation between all the numerical columns and plot heatmap. (Score:1)"
   ]
  },
  {
   "cell_type": "code",
   "execution_count": 251,
   "id": "c27613e6-0411-41c7-806c-fccc995bb95e",
   "metadata": {},
   "outputs": [
    {
     "name": "stdout",
     "output_type": "stream",
     "text": [
      "Index(['total_sqft', 'bath', 'price', 'bhk', 'price_per_sqft',\n",
      "       'price_per_sqft_Log'],\n",
      "      dtype='object')\n"
     ]
    }
   ],
   "source": [
    "# Select numerical columns\n",
    "numerical_cols = new_data.select_dtypes(include=['int64', 'float64']).columns"
   ]
  },
  {
   "cell_type": "code",
   "execution_count": 247,
   "id": "a8f07dd3-93d5-42a7-a833-0cc2f413cd3e",
   "metadata": {},
   "outputs": [
    {
     "data": {
      "text/html": [
       "<div>\n",
       "<style scoped>\n",
       "    .dataframe tbody tr th:only-of-type {\n",
       "        vertical-align: middle;\n",
       "    }\n",
       "\n",
       "    .dataframe tbody tr th {\n",
       "        vertical-align: top;\n",
       "    }\n",
       "\n",
       "    .dataframe thead th {\n",
       "        text-align: right;\n",
       "    }\n",
       "</style>\n",
       "<table border=\"1\" class=\"dataframe\">\n",
       "  <thead>\n",
       "    <tr style=\"text-align: right;\">\n",
       "      <th></th>\n",
       "      <th>total_sqft</th>\n",
       "      <th>bath</th>\n",
       "      <th>price</th>\n",
       "      <th>bhk</th>\n",
       "      <th>price_per_sqft</th>\n",
       "      <th>price_per_sqft_Log</th>\n",
       "    </tr>\n",
       "  </thead>\n",
       "  <tbody>\n",
       "    <tr>\n",
       "      <th>total_sqft</th>\n",
       "      <td>1.000000</td>\n",
       "      <td>0.386694</td>\n",
       "      <td>0.572516</td>\n",
       "      <td>0.339936</td>\n",
       "      <td>-0.008877</td>\n",
       "      <td>0.099992</td>\n",
       "    </tr>\n",
       "    <tr>\n",
       "      <th>bath</th>\n",
       "      <td>0.386694</td>\n",
       "      <td>1.000000</td>\n",
       "      <td>0.448802</td>\n",
       "      <td>0.898875</td>\n",
       "      <td>0.030133</td>\n",
       "      <td>0.424463</td>\n",
       "    </tr>\n",
       "    <tr>\n",
       "      <th>price</th>\n",
       "      <td>0.572516</td>\n",
       "      <td>0.448802</td>\n",
       "      <td>1.000000</td>\n",
       "      <td>0.390008</td>\n",
       "      <td>0.027415</td>\n",
       "      <td>0.581634</td>\n",
       "    </tr>\n",
       "    <tr>\n",
       "      <th>bhk</th>\n",
       "      <td>0.339936</td>\n",
       "      <td>0.898875</td>\n",
       "      <td>0.390008</td>\n",
       "      <td>1.000000</td>\n",
       "      <td>0.030294</td>\n",
       "      <td>0.405738</td>\n",
       "    </tr>\n",
       "    <tr>\n",
       "      <th>price_per_sqft</th>\n",
       "      <td>-0.008877</td>\n",
       "      <td>0.030133</td>\n",
       "      <td>0.027415</td>\n",
       "      <td>0.030294</td>\n",
       "      <td>1.000000</td>\n",
       "      <td>0.205191</td>\n",
       "    </tr>\n",
       "    <tr>\n",
       "      <th>price_per_sqft_Log</th>\n",
       "      <td>0.099992</td>\n",
       "      <td>0.424463</td>\n",
       "      <td>0.581634</td>\n",
       "      <td>0.405738</td>\n",
       "      <td>0.205191</td>\n",
       "      <td>1.000000</td>\n",
       "    </tr>\n",
       "  </tbody>\n",
       "</table>\n",
       "</div>"
      ],
      "text/plain": [
       "                    total_sqft      bath     price       bhk  price_per_sqft  \\\n",
       "total_sqft            1.000000  0.386694  0.572516  0.339936       -0.008877   \n",
       "bath                  0.386694  1.000000  0.448802  0.898875        0.030133   \n",
       "price                 0.572516  0.448802  1.000000  0.390008        0.027415   \n",
       "bhk                   0.339936  0.898875  0.390008  1.000000        0.030294   \n",
       "price_per_sqft       -0.008877  0.030133  0.027415  0.030294        1.000000   \n",
       "price_per_sqft_Log    0.099992  0.424463  0.581634  0.405738        0.205191   \n",
       "\n",
       "                    price_per_sqft_Log  \n",
       "total_sqft                    0.099992  \n",
       "bath                          0.424463  \n",
       "price                         0.581634  \n",
       "bhk                           0.405738  \n",
       "price_per_sqft                0.205191  \n",
       "price_per_sqft_Log            1.000000  "
      ]
     },
     "execution_count": 247,
     "metadata": {},
     "output_type": "execute_result"
    }
   ],
   "source": [
    "# Calculate correlation\n",
    "corr_matrix = new_data[numerical_cols].corr()\n",
    "corr_matrix"
   ]
  },
  {
   "cell_type": "code",
   "execution_count": 239,
   "id": "40ea7642-03ac-4620-8d0c-b92ee98be38f",
   "metadata": {},
   "outputs": [
    {
     "data": {
      "image/png": "[encoded data removed]",
      "text/plain": [
       "<Figure size 1000x800 with 2 Axes>"
      ]
     },
     "metadata": {},
     "output_type": "display_data"
    }
   ],
   "source": [
    "# Plot heatmap\n",
    "plt.figure(figsize=(10, 8))\n",
    "sns.heatmap(corr_matrix, annot=True, cmap='coolwarm', square=True)\n",
    "plt.title('Correlation Heatmap')\n",
    "plt.show()"
   ]
  },
  {
   "cell_type": "markdown",
   "id": "42a6651b-931f-48a5-97b6-59a58d509566",
   "metadata": {},
   "source": []
  },
  {
   "cell_type": "markdown",
   "id": "4972039c-c758-41d3-84ea-8d9577f025d5",
   "metadata": {},
   "source": [
    "## Q6. Draw Scatter plot between the variables to check the correlation between them. (1)"
   ]
  },
  {
   "cell_type": "code",
   "execution_count": 260,
   "id": "e754c5b4-2144-4ec9-aa1a-2ec8d74b2ea8",
   "metadata": {},
   "outputs": [
    {
     "data": {
      "text/html": [
       "<div>\n",
       "<style scoped>\n",
       "    .dataframe tbody tr th:only-of-type {\n",
       "        vertical-align: middle;\n",
       "    }\n",
       "\n",
       "    .dataframe tbody tr th {\n",
       "        vertical-align: top;\n",
       "    }\n",
       "\n",
       "    .dataframe thead th {\n",
       "        text-align: right;\n",
       "    }\n",
       "</style>\n",
       "<table border=\"1\" class=\"dataframe\">\n",
       "  <thead>\n",
       "    <tr style=\"text-align: right;\">\n",
       "      <th></th>\n",
       "      <th>location</th>\n",
       "      <th>size</th>\n",
       "      <th>total_sqft</th>\n",
       "      <th>bath</th>\n",
       "      <th>price</th>\n",
       "      <th>bhk</th>\n",
       "      <th>price_per_sqft</th>\n",
       "      <th>price_per_sqft_Log</th>\n",
       "    </tr>\n",
       "  </thead>\n",
       "  <tbody>\n",
       "    <tr>\n",
       "      <th>0</th>\n",
       "      <td>Electronic City Phase II</td>\n",
       "      <td>2 BHK</td>\n",
       "      <td>1056.0</td>\n",
       "      <td>2.0</td>\n",
       "      <td>39.07</td>\n",
       "      <td>2</td>\n",
       "      <td>3699</td>\n",
       "      <td>8.215818</td>\n",
       "    </tr>\n",
       "    <tr>\n",
       "      <th>1</th>\n",
       "      <td>Chikka Tirupathi</td>\n",
       "      <td>4 Bedroom</td>\n",
       "      <td>2600.0</td>\n",
       "      <td>5.0</td>\n",
       "      <td>120.00</td>\n",
       "      <td>4</td>\n",
       "      <td>4615</td>\n",
       "      <td>8.437067</td>\n",
       "    </tr>\n",
       "    <tr>\n",
       "      <th>2</th>\n",
       "      <td>Uttarahalli</td>\n",
       "      <td>3 BHK</td>\n",
       "      <td>1440.0</td>\n",
       "      <td>2.0</td>\n",
       "      <td>62.00</td>\n",
       "      <td>3</td>\n",
       "      <td>4305</td>\n",
       "      <td>8.367532</td>\n",
       "    </tr>\n",
       "    <tr>\n",
       "      <th>3</th>\n",
       "      <td>Lingadheeranahalli</td>\n",
       "      <td>3 BHK</td>\n",
       "      <td>1521.0</td>\n",
       "      <td>3.0</td>\n",
       "      <td>95.00</td>\n",
       "      <td>3</td>\n",
       "      <td>6245</td>\n",
       "      <td>8.739536</td>\n",
       "    </tr>\n",
       "    <tr>\n",
       "      <th>4</th>\n",
       "      <td>Kothanur</td>\n",
       "      <td>2 BHK</td>\n",
       "      <td>1200.0</td>\n",
       "      <td>2.0</td>\n",
       "      <td>51.00</td>\n",
       "      <td>2</td>\n",
       "      <td>4250</td>\n",
       "      <td>8.354674</td>\n",
       "    </tr>\n",
       "    <tr>\n",
       "      <th>...</th>\n",
       "      <td>...</td>\n",
       "      <td>...</td>\n",
       "      <td>...</td>\n",
       "      <td>...</td>\n",
       "      <td>...</td>\n",
       "      <td>...</td>\n",
       "      <td>...</td>\n",
       "      <td>...</td>\n",
       "    </tr>\n",
       "    <tr>\n",
       "      <th>13194</th>\n",
       "      <td>Green Glen Layout</td>\n",
       "      <td>3 BHK</td>\n",
       "      <td>1715.0</td>\n",
       "      <td>3.0</td>\n",
       "      <td>112.00</td>\n",
       "      <td>3</td>\n",
       "      <td>6530</td>\n",
       "      <td>8.784162</td>\n",
       "    </tr>\n",
       "    <tr>\n",
       "      <th>13195</th>\n",
       "      <td>Whitefield</td>\n",
       "      <td>5 Bedroom</td>\n",
       "      <td>3453.0</td>\n",
       "      <td>4.0</td>\n",
       "      <td>231.00</td>\n",
       "      <td>5</td>\n",
       "      <td>6689</td>\n",
       "      <td>8.808220</td>\n",
       "    </tr>\n",
       "    <tr>\n",
       "      <th>13196</th>\n",
       "      <td>other</td>\n",
       "      <td>4 BHK</td>\n",
       "      <td>3600.0</td>\n",
       "      <td>5.0</td>\n",
       "      <td>400.00</td>\n",
       "      <td>4</td>\n",
       "      <td>11111</td>\n",
       "      <td>9.315691</td>\n",
       "    </tr>\n",
       "    <tr>\n",
       "      <th>13197</th>\n",
       "      <td>Raja Rajeshwari Nagar</td>\n",
       "      <td>2 BHK</td>\n",
       "      <td>1141.0</td>\n",
       "      <td>2.0</td>\n",
       "      <td>60.00</td>\n",
       "      <td>2</td>\n",
       "      <td>5258</td>\n",
       "      <td>8.567506</td>\n",
       "    </tr>\n",
       "    <tr>\n",
       "      <th>13198</th>\n",
       "      <td>Padmanabhanagar</td>\n",
       "      <td>4 BHK</td>\n",
       "      <td>4689.0</td>\n",
       "      <td>4.0</td>\n",
       "      <td>488.00</td>\n",
       "      <td>4</td>\n",
       "      <td>10407</td>\n",
       "      <td>9.250234</td>\n",
       "    </tr>\n",
       "  </tbody>\n",
       "</table>\n",
       "<p>12151 rows × 8 columns</p>\n",
       "</div>"
      ],
      "text/plain": [
       "                       location       size  total_sqft  bath   price  bhk  \\\n",
       "0      Electronic City Phase II      2 BHK      1056.0   2.0   39.07    2   \n",
       "1              Chikka Tirupathi  4 Bedroom      2600.0   5.0  120.00    4   \n",
       "2                   Uttarahalli      3 BHK      1440.0   2.0   62.00    3   \n",
       "3            Lingadheeranahalli      3 BHK      1521.0   3.0   95.00    3   \n",
       "4                      Kothanur      2 BHK      1200.0   2.0   51.00    2   \n",
       "...                         ...        ...         ...   ...     ...  ...   \n",
       "13194         Green Glen Layout      3 BHK      1715.0   3.0  112.00    3   \n",
       "13195                Whitefield  5 Bedroom      3453.0   4.0  231.00    5   \n",
       "13196                     other      4 BHK      3600.0   5.0  400.00    4   \n",
       "13197     Raja Rajeshwari Nagar      2 BHK      1141.0   2.0   60.00    2   \n",
       "13198           Padmanabhanagar      4 BHK      4689.0   4.0  488.00    4   \n",
       "\n",
       "       price_per_sqft  price_per_sqft_Log  \n",
       "0                3699            8.215818  \n",
       "1                4615            8.437067  \n",
       "2                4305            8.367532  \n",
       "3                6245            8.739536  \n",
       "4                4250            8.354674  \n",
       "...               ...                 ...  \n",
       "13194            6530            8.784162  \n",
       "13195            6689            8.808220  \n",
       "13196           11111            9.315691  \n",
       "13197            5258            8.567506  \n",
       "13198           10407            9.250234  \n",
       "\n",
       "[12151 rows x 8 columns]"
      ]
     },
     "execution_count": 260,
     "metadata": {},
     "output_type": "execute_result"
    }
   ],
   "source": [
    "new_data"
   ]
  },
  {
   "cell_type": "code",
   "execution_count": 264,
   "id": "a097f176-673e-491b-9a81-5503fc71e365",
   "metadata": {},
   "outputs": [
    {
     "data": {
      "image/png": "[encoded data removed]",
      "text/plain": [
       "<Figure size 800x600 with 1 Axes>"
      ]
     },
     "metadata": {},
     "output_type": "display_data"
    }
   ],
   "source": [
    "# Select variables\n",
    "x_var = 'total_sqft'\n",
    "y_var = 'price_per_sqft'\n",
    "\n",
    "# Draw scatter plot\n",
    "plt.figure(figsize=(8, 6))\n",
    "sns.scatterplot(x=x_var, y=y_var, data=new_data)\n",
    "\n",
    "# Add regression line\n",
    "sns.regplot(x=x_var, y=y_var, data=new_data, ci=None)\n",
    "\n",
    "plt.title(f'Scatter Plot: {x_var} vs {y_var}')\n",
    "plt.show()"
   ]
  },
  {
   "cell_type": "code",
   "execution_count": 278,
   "id": "802abc99-a0a7-4f21-a7fb-30c1609c18a6",
   "metadata": {},
   "outputs": [
    {
     "data": {
      "image/png": "[encoded data removed]",
      "text/plain": [
       "<Figure size 800x600 with 1 Axes>"
      ]
     },
     "metadata": {},
     "output_type": "display_data"
    }
   ],
   "source": [
    "# Select variables\n",
    "x_var = 'size'\n",
    "y_var = 'price_per_sqft'\n",
    "\n",
    "# Draw scatter plot\n",
    "plt.figure(figsize=(8, 6))\n",
    "sns.scatterplot(x=x_var, y=y_var, data=new_data)\n",
    "plt.xticks(rotation=90)\n",
    "plt.title(f'Scatter Plot: {x_var} vs {y_var}')\n",
    "plt.show()"
   ]
  },
  {
   "cell_type": "code",
   "execution_count": 280,
   "id": "40a4baaa-5748-49b6-8d7a-0afc5c6e06b5",
   "metadata": {},
   "outputs": [
    {
     "data": {
      "image/png": "[encoded data removed]",
      "text/plain": [
       "<Figure size 800x600 with 1 Axes>"
      ]
     },
     "metadata": {},
     "output_type": "display_data"
    }
   ],
   "source": [
    "# Select variables\n",
    "x_var = 'bhk'\n",
    "y_var = 'price_per_sqft'\n",
    "\n",
    "# Draw scatter plot\n",
    "plt.figure(figsize=(8, 6))\n",
    "sns.scatterplot(x=x_var, y=y_var, data=new_data)\n",
    "plt.xticks(rotation=90)\n",
    "plt.title(f'Scatter Plot: {x_var} vs {y_var}')\n",
    "plt.show()"
   ]
  }
 ],
 "metadata": {
  "kernelspec": {
   "display_name": "Python 3 (ipykernel)",
   "language": "python",
   "name": "python3"
  },
  "language_info": {
   "codemirror_mode": {
    "name": "ipython",
    "version": 3
   },
   "file_extension": ".py",
   "mimetype": "text/x-python",
   "name": "python",
   "nbconvert_exporter": "python",
   "pygments_lexer": "ipython3",
   "version": "3.12.4"
  }
 },
 "nbformat": 4,
 "nbformat_minor": 5
}
